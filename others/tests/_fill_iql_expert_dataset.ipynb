{
 "cells": [
  {
   "cell_type": "code",
   "execution_count": 1,
   "metadata": {},
   "outputs": [],
   "source": [
    "from atari_rl.iql.expert_dataset import ExpertDataset\n",
    "IMAGE_SIZE = 84\n",
    "FRAME_STACK_SIZE = 4\n",
    "NUM_ACTIONS = 3\n",
    "obs_shape = (FRAME_STACK_SIZE, IMAGE_SIZE, IMAGE_SIZE)\n",
    "EXPERT_NAME = \"iql_expert_dataset_731_103176\"\n",
    "expert_dataset = ExpertDataset(obs_shape, NUM_ACTIONS, expert_name=EXPERT_NAME)\n"
   ]
  },
  {
   "cell_type": "code",
   "execution_count": 2,
   "metadata": {},
   "outputs": [],
   "source": [
    "import time\n",
    "import torch\n",
    "\n",
    "device = torch.device(\"cuda\" if torch.cuda.is_available() else \"cpu\")"
   ]
  },
  {
   "cell_type": "code",
   "execution_count": 3,
   "metadata": {},
   "outputs": [
    {
     "name": "stdout",
     "output_type": "stream",
     "text": [
      "Dataset size:  0\n",
      "Dataset loaded\n",
      "Dataset size:  103176\n"
     ]
    }
   ],
   "source": [
    "print(\"Dataset size: \", expert_dataset.loaded_size)\n",
    "expert_dataset.load()\n",
    "print(\"Dataset loaded\")\n",
    "print(\"Dataset size: \", expert_dataset.loaded_size)"
   ]
  },
  {
   "cell_type": "code",
   "execution_count": 4,
   "metadata": {},
   "outputs": [
    {
     "name": "stdout",
     "output_type": "stream",
     "text": [
      "Sample time:  0.46740221977233887\n"
     ]
    }
   ],
   "source": [
    "start_time = time.time()\n",
    "data = expert_dataset.sample(32, device, True, False)\n",
    "print(\"Sample time: \", time.time() - start_time)"
   ]
  },
  {
   "cell_type": "code",
   "execution_count": 5,
   "metadata": {},
   "outputs": [
    {
     "name": "stdout",
     "output_type": "stream",
     "text": [
      "Sample time:  0.002001523971557617\n"
     ]
    }
   ],
   "source": [
    "start_time = time.time()\n",
    "data = expert_dataset.sample(32, device, True, True)\n",
    "print(\"Sample time: \", time.time() - start_time)\n"
   ]
  },
  {
   "cell_type": "code",
   "execution_count": null,
   "metadata": {},
   "outputs": [],
   "source": []
  }
 ],
 "metadata": {
  "kernelspec": {
   "display_name": "venv",
   "language": "python",
   "name": "python3"
  },
  "language_info": {
   "codemirror_mode": {
    "name": "ipython",
    "version": 3
   },
   "file_extension": ".py",
   "mimetype": "text/x-python",
   "name": "python",
   "nbconvert_exporter": "python",
   "pygments_lexer": "ipython3",
   "version": "3.12.6"
  }
 },
 "nbformat": 4,
 "nbformat_minor": 2
}
